{
  "nbformat": 4,
  "nbformat_minor": 0,
  "metadata": {
    "colab": {
      "provenance": [],
      "include_colab_link": true
    },
    "kernelspec": {
      "name": "python3",
      "display_name": "Python 3"
    },
    "language_info": {
      "name": "python"
    }
  },
  "cells": [
    {
      "cell_type": "markdown",
      "metadata": {
        "id": "view-in-github",
        "colab_type": "text"
      },
      "source": [
        "<a href=\"https://colab.research.google.com/github/Knilik97/Begin_ML/blob/main/%22%D0%94_%D0%97%20%D0%A3%D0%BF%D1%80%D0%B0%D0%B6%D0%BD%D0%B5%D0%BD%D0%B8%D1%8F_%D0%BA_%D1%82%D0%B5%D0%BC%D0%B5_%D0%BF%D0%BE_%D0%B0%D1%81%D0%B8%D0%BD%D1%85%D1%80%D0%BE%D0%BD%D0%BD%D0%BE%D0%BC%D1%83_%D0%BF%D1%80%D0%BE%D0%B3%D1%80%D0%B0%D0%BC%D0%BC%D0%B8%D1%80%D0%BE%D0%B2%D0%B0%D0%BD%D0%B8%D1%8E%22.ipynb\" target=\"_parent\"><img src=\"https://colab.research.google.com/assets/colab-badge.svg\" alt=\"Open In Colab\"/></a>"
      ]
    },
    {
      "cell_type": "markdown",
      "source": [
        "1. **Асинхронный таймер:**\n",
        "   - Напишите программу с использованием `asyncio`, которая в течение определенного времени (например, 10 секунд) выводит сообщение каждую секунду. Используйте `asyncio.sleep` для создания таймера."
      ],
      "metadata": {
        "id": "yQDLe_9hK25n"
      }
    },
    {
      "cell_type": "code",
      "source": [
        "!pip install nest_asyncio\n",
        "import nest_asyncio\n",
        "nest_asyncio.apply()"
      ],
      "metadata": {
        "colab": {
          "base_uri": "https://localhost:8080/"
        },
        "id": "Xxr6A_gw3YB2",
        "outputId": "8ae8c65f-890d-4aea-d8da-fb9ce04afe20"
      },
      "execution_count": null,
      "outputs": [
        {
          "output_type": "stream",
          "name": "stdout",
          "text": [
            "Requirement already satisfied: nest_asyncio in /usr/local/lib/python3.11/dist-packages (1.6.0)\n"
          ]
        }
      ]
    },
    {
      "cell_type": "code",
      "source": [
        "import asyncio\n",
        "\n",
        "async def print_message_every_second():\n",
        "    # Устанавливаем количество секунд, в течение которых будет работать программа\n",
        "    duration = 10\n",
        "    # Устанавливаем интервал между сообщениями в секундах\n",
        "    interval = 1\n",
        "\n",
        "    # Инициализируем счётчик сообщений\n",
        "    message_count = 0\n",
        "\n",
        "    # Цикл, который будет выполняться в течение указанного времени\n",
        "    for _ in range(duration):\n",
        "        # Увеличиваем счётчик сообщений\n",
        "        message_count += 1\n",
        "        # Выводим сообщение с номером\n",
        "        print(f\"Сообщение {message_count} каждую секунду\")\n",
        "        # Используем asyncio.sleep для асинхронной задержки\n",
        "        await asyncio.sleep(interval)\n",
        "\n",
        "# Основная функция для запуска асинхронной задачи\n",
        "async def main():\n",
        "    # Запускаем асинхронную функцию\n",
        "    await print_message_every_second()\n",
        "\n",
        "# Запускаем цикл событий asyncio\n",
        "if __name__ == \"__main__\":\n",
        "    asyncio.run(main())"
      ],
      "metadata": {
        "id": "rl08aM5Q0LMp",
        "outputId": "94ed7986-4501-4e7b-bf4b-79fb0084ba21",
        "colab": {
          "base_uri": "https://localhost:8080/"
        }
      },
      "execution_count": null,
      "outputs": [
        {
          "output_type": "stream",
          "name": "stdout",
          "text": [
            "Сообщение 1 каждую секунду\n",
            "Сообщение 2 каждую секунду\n",
            "Сообщение 3 каждую секунду\n",
            "Сообщение 4 каждую секунду\n",
            "Сообщение 5 каждую секунду\n",
            "Сообщение 6 каждую секунду\n",
            "Сообщение 7 каждую секунду\n",
            "Сообщение 8 каждую секунду\n",
            "Сообщение 9 каждую секунду\n",
            "Сообщение 10 каждую секунду\n"
          ]
        }
      ]
    },
    {
      "cell_type": "markdown",
      "source": [
        "2. **Асинхронный калькулятор:**\n",
        "   - Создайте программу, где пользователь может вводить асинхронные математические операции (например, сложение, умножение) в интерактивном режиме. Реализуйте асинхронную обработку ввода."
      ],
      "metadata": {
        "id": "gpR9oBvYLLPU"
      }
    },
    {
      "cell_type": "code",
      "source": [
        "import asyncio\n",
        "\n",
        "# Асинхронная функция для вычисления математического выражения\n",
        "async def calculate(expression):\n",
        "    try:\n",
        "        # Используем eval для вычисления выражения\n",
        "        # Важно: eval может быть небезопасным, если выражение поступает из ненадежного источника\n",
        "        result = eval(expression)\n",
        "        print(f\"Результат: {result}\")\n",
        "    except Exception as e:\n",
        "        # Обработка исключений, если eval не может вычислить выражение\n",
        "        print(f\"Ошибка: {e}\")\n",
        "\n",
        "# Основная асинхронная функция\n",
        "async def main():\n",
        "    print(\"Асинхронный калькулятор. Введите 'exit' для выхода.\")\n",
        "    while True:\n",
        "        # Запрашиваем у пользователя ввод математического выражения\n",
        "        expression = input(\"Введите математическое выражение: \")\n",
        "        # Проверяем, не хочет ли пользователь выйти\n",
        "        if expression.lower() == 'exit':\n",
        "            break\n",
        "        # Вызываем асинхронную функцию calculate для вычисления выражения\n",
        "        await calculate(expression)\n",
        "\n",
        "# Запуск основного цикла с использованием asyncio\n",
        "asyncio.run(main())\n"
      ],
      "metadata": {
        "id": "0n80jta_LEfH",
        "colab": {
          "base_uri": "https://localhost:8080/"
        },
        "outputId": "17cb2ce3-11ce-4255-8d3d-9c99c1d39642"
      },
      "execution_count": null,
      "outputs": [
        {
          "name": "stdout",
          "output_type": "stream",
          "text": [
            "Асинхронный калькулятор. Введите 'exit' для выхода.\n",
            "Введите математическое выражение: 2 + 2\n",
            "Результат: 4\n",
            "Введите математическое выражение: 2 *2\n",
            "Результат: 4\n",
            "Введите математическое выражение: exit\n"
          ]
        }
      ]
    },
    {
      "cell_type": "markdown",
      "source": [
        "3. **Асинхронные задачи с обработкой ошибок:**\n",
        "   - Напишите программу, в которой несколько асинхронных задач выполняются параллельно. Включите обработку возможных ошибок в каждой задаче."
      ],
      "metadata": {
        "id": "lzaaNoM3LLsw"
      }
    },
    {
      "cell_type": "code",
      "source": [
        "import asyncio\n",
        "\n",
        "async def task(name, duration):\n",
        "    try:\n",
        "        # Симуляция выполнения задачи с помощью asyncio.sleep\n",
        "        print(f\"Задача {name} запущена, выполнение займёт {duration} секунд.\")\n",
        "        await asyncio.sleep(duration)\n",
        "        # Искусственно вызываем ошибку для демонстрации обработки\n",
        "        if name == \"Задача 2\":\n",
        "            raise ValueError(\"Произошла ошибка в задаче 2\")\n",
        "        print(f\"Задача {name} успешно завершена.\")\n",
        "    except Exception as e:\n",
        "        # Обработка исключений, возникающих в задаче\n",
        "        print(f\"Ошибка в {name}: {e}\")\n",
        "\n",
        "async def main():\n",
        "    # Создаем список задач сколько секунд выполнение займёт каждая\n",
        "    tasks = [\n",
        "        task(\"Задача 1\", 2),\n",
        "        task(\"Задача 2\", 3),\n",
        "        task(\"Задача 3\", 1)\n",
        "    ]\n",
        "\n",
        "    # Запускаем задачи параллельно и ждем их завершения\n",
        "    await asyncio.gather(*tasks)\n",
        "\n",
        "# Запуск основного цикла событий\n",
        "if __name__ == \"__main__\":\n",
        "    asyncio.run(main())\n"
      ],
      "metadata": {
        "id": "lM5zcOx4LGck",
        "colab": {
          "base_uri": "https://localhost:8080/"
        },
        "outputId": "c8ea8f0c-1378-4bef-bb6b-263b08759421"
      },
      "execution_count": null,
      "outputs": [
        {
          "output_type": "stream",
          "name": "stdout",
          "text": [
            "Задача Задача 1 запущена, выполнение займёт 2 секунд.\n",
            "Задача Задача 2 запущена, выполнение займёт 3 секунд.\n",
            "Задача Задача 3 запущена, выполнение займёт 1 секунд.\n",
            "Задача Задача 3 успешно завершена.\n",
            "Задача Задача 1 успешно завершена.\n",
            "Ошибка в Задача 2: Произошла ошибка в задаче 2\n"
          ]
        }
      ]
    },
    {
      "cell_type": "markdown",
      "source": [
        "4. **Асинхронный генератор случайных чисел:**\n",
        "   - Реализуйте асинхронный генератор, который асинхронно возвращает случайные числа. Запустите несколько задач для генерации чисел параллельно."
      ],
      "metadata": {
        "id": "SkYIiSa1LMV5"
      }
    },
    {
      "cell_type": "code",
      "source": [
        "import asyncio\n",
        "import random\n",
        "\n",
        "# Асинхронный генератор случайных чисел\n",
        "async def async_random_number_generator(name, count):\n",
        "    \"\"\"\n",
        "    Асинхронно генерирует случайные числа.\n",
        "\n",
        "    :param name: Имя задачи для идентификации в выводе\n",
        "    :param count: Количество случайных чисел для генерации\n",
        "    \"\"\"\n",
        "    for _ in range(count):\n",
        "        # Генерируем случайное число от 0 до 100\n",
        "        number = random.randint(0, 100)\n",
        "        print(f\"Задача {name}: Сгенерированный номер {number}\")\n",
        "\n",
        "        # Асинхронно ждем случайное время от 0.1 до 1 секунды\n",
        "        await asyncio.sleep(random.uniform(0.1, 1))\n",
        "\n",
        "# Основная асинхронная функция\n",
        "async def main():\n",
        "    # Создаем список задач\n",
        "    tasks = [\n",
        "        async_random_number_generator(\"A\", 5),\n",
        "        async_random_number_generator(\"B\", 5),\n",
        "        async_random_number_generator(\"C\", 5)\n",
        "    ]\n",
        "\n",
        "    # Запускаем задачи параллельно\n",
        "    await asyncio.gather(*tasks)\n",
        "\n",
        "# Запускаем цикл событий\n",
        "if __name__ == \"__main__\":\n",
        "    asyncio.run(main())\n"
      ],
      "metadata": {
        "id": "hFBJYNLxLGOy",
        "colab": {
          "base_uri": "https://localhost:8080/"
        },
        "outputId": "6c672496-bfa6-48d7-ae94-cf34f4a18a87"
      },
      "execution_count": null,
      "outputs": [
        {
          "output_type": "stream",
          "name": "stdout",
          "text": [
            "Задача A: Сгенерированный номер 16\n",
            "Задача B: Сгенерированный номер 16\n",
            "Задача C: Сгенерированный номер 21\n",
            "Задача A: Сгенерированный номер 90\n",
            "Задача B: Сгенерированный номер 79\n",
            "Задача A: Сгенерированный номер 31\n",
            "Задача C: Сгенерированный номер 13\n",
            "Задача B: Сгенерированный номер 61\n",
            "Задача A: Сгенерированный номер 68\n",
            "Задача C: Сгенерированный номер 57\n",
            "Задача B: Сгенерированный номер 46\n",
            "Задача A: Сгенерированный номер 96\n",
            "Задача C: Сгенерированный номер 82\n",
            "Задача B: Сгенерированный номер 47\n",
            "Задача C: Сгенерированный номер 88\n"
          ]
        }
      ]
    },
    {
      "cell_type": "markdown",
      "source": [
        "5. **Асинхронный поиск файлов:**\n",
        "   - Напишите программу, которая асинхронно ищет файлы определенного типа в указанном каталоге. Обработайте результаты поиска."
      ],
      "metadata": {
        "id": "MnDTSinuLMxM"
      }
    },
    {
      "cell_type": "code",
      "source": [
        "import asyncio\n",
        "import os\n",
        "\n",
        "async def find_files(directory, file_extension):\n",
        "    \"\"\"\n",
        "    Асинхронно ищет файлы с заданным расширением в указанном каталоге.\n",
        "\n",
        "    :param directory: Путь к каталогу, в котором будет производиться поиск.\n",
        "    :param file_extension: Расширение файлов, которые нужно найти.\n",
        "    :return: Список найденных файлов.\n",
        "    \"\"\"\n",
        "    found_files = []\n",
        "\n",
        "    # Используем стандартный os.scandir\n",
        "    with os.scandir(directory) as it:\n",
        "        for entry in it:\n",
        "            # Проверяем, является ли текущий элемент файлом\n",
        "            if entry.is_file():\n",
        "                # Проверяем, соответствует ли расширение файла заданному\n",
        "                if entry.name.endswith(file_extension):\n",
        "                    found_files.append(entry.path)\n",
        "            # Если элемент является директорией, рекурсивно ищем в ней файлы\n",
        "            elif entry.is_dir():\n",
        "                found_files.extend(await find_files(entry.path, file_extension))\n",
        "\n",
        "    return found_files\n",
        "\n",
        "async def main():\n",
        "    # Указываем каталог для поиска и расширение файлов\n",
        "    directory_to_search = '/content/sample_data'\n",
        "    file_extension = '.md'\n",
        "\n",
        "    # Запускаем асинхронный поиск файлов\n",
        "    found_files = await find_files(directory_to_search, file_extension)\n",
        "\n",
        "    # Обрабатываем результаты поиска\n",
        "    if found_files:\n",
        "        print(f\"Найдено {len(found_files)} файлов с расширением {file_extension}:\")\n",
        "        for file in found_files:\n",
        "            print(file)\n",
        "    else:\n",
        "        print(f\"Файлы с расширением {file_extension} не найдены.\")\n",
        "\n",
        "# Запускаем асинхронную программу\n",
        "if __name__ == '__main__':\n",
        "    asyncio.run(main())\n"
      ],
      "metadata": {
        "id": "qlcoMYBzLGES",
        "colab": {
          "base_uri": "https://localhost:8080/"
        },
        "outputId": "9203696d-9288-49ba-a55e-2ca0174761a5"
      },
      "execution_count": null,
      "outputs": [
        {
          "output_type": "stream",
          "name": "stdout",
          "text": [
            "Найдено 1 файлов с расширением .md:\n",
            "/content/sample_data/README.md\n"
          ]
        }
      ]
    },
    {
      "cell_type": "markdown",
      "source": [
        "6. **Асинхронный кэш:**\n",
        "   - Создайте простой асинхронный кэш, который позволяет асинхронно добавлять и получать значения по ключу. Проверьте его работу в параллельных задачах."
      ],
      "metadata": {
        "id": "NW9vUmQgLNR7"
      }
    },
    {
      "cell_type": "code",
      "source": [
        "import asyncio\n",
        "\n",
        "class AsyncCache:\n",
        "    def __init__(self):\n",
        "        # Инициализируем словарь для хранения кэшированных данных\n",
        "        self.cache = {}\n",
        "\n",
        "    async def set(self, key, value):\n",
        "        # Асинхронно добавляем значение в кэш\n",
        "        await asyncio.sleep(0)  # Симуляция асинхронной операции\n",
        "        self.cache[key] = value\n",
        "        print(f\"Значение, установленное для ключа: {key}\")\n",
        "\n",
        "    async def get(self, key):\n",
        "        # Асинхронно получаем значение из кэша\n",
        "        await asyncio.sleep(0)  # Симуляция асинхронной операции\n",
        "        return self.cache.get(key, None)\n",
        "\n",
        "async def main():\n",
        "    # Создаем экземпляр асинхронного кэша\n",
        "    cache = AsyncCache()\n",
        "\n",
        "    # Определяем асинхронные задачи для установки и получения значений\n",
        "    await asyncio.gather(\n",
        "        cache.set('key1', 'value1'),\n",
        "        cache.set('key2', 'value2'),\n",
        "        cache.set('key3', 'value3')\n",
        "    )\n",
        "\n",
        "    # Получаем значения из кэша\n",
        "    value1 = await cache.get('key1')\n",
        "    value2 = await cache.get('key2')\n",
        "    value3 = await cache.get('key3')\n",
        "\n",
        "    # Выводим полученные значения\n",
        "    print(f\"Value for key1: {value1}\")\n",
        "    print(f\"Value for key2: {value2}\")\n",
        "    print(f\"Value for key3: {value3}\")\n",
        "\n",
        "# Запускаем асинхронную функцию main\n",
        "asyncio.run(main())\n"
      ],
      "metadata": {
        "id": "GEPZQD40LF6b",
        "colab": {
          "base_uri": "https://localhost:8080/"
        },
        "outputId": "afe1695b-35ab-4449-e825-7ed328d0923a"
      },
      "execution_count": null,
      "outputs": [
        {
          "output_type": "stream",
          "name": "stdout",
          "text": [
            "Значение, установленное для ключа: key1\n",
            "Значение, установленное для ключа: key2\n",
            "Значение, установленное для ключа: key3\n",
            "Value for key1: value1\n",
            "Value for key2: value2\n",
            "Value for key3: value3\n"
          ]
        }
      ]
    },
    {
      "cell_type": "markdown",
      "source": [
        "7. **Асинхронный счетчик:**\n",
        "   - Создайте асинхронный счетчик, который можно увеличивать и уменьшать из разных задач параллельно. Обеспечьте синхронный доступ к счетчику."
      ],
      "metadata": {
        "id": "6OBVsCqxLOF4"
      }
    },
    {
      "cell_type": "code",
      "source": [
        "import asyncio\n",
        "\n",
        "class AsyncCounter:\n",
        "    def __init__(self):\n",
        "        # Инициализируем счетчик и блокировку\n",
        "        self._value = 0\n",
        "        self._lock = asyncio.Lock()\n",
        "\n",
        "    async def increment(self):\n",
        "        # Используем блокировку для обеспечения синхронного доступа\n",
        "        async with self._lock:\n",
        "            # Увеличиваем значение счетчика\n",
        "            self._value += 1\n",
        "            print(f\"Увеличено: {self._value}\")\n",
        "\n",
        "    async def decrement(self):\n",
        "        # Используем блокировку для обеспечения синхронного доступа\n",
        "        async with self._lock:\n",
        "            # Уменьшаем значение счетчика\n",
        "            self._value -= 1\n",
        "            print(f\"Уменьшено: {self._value}\")\n",
        "\n",
        "    async def get_value(self):\n",
        "        # Используем блокировку для безопасного чтения значения\n",
        "        async with self._lock:\n",
        "            # Возвращаем текущее значение счетчика\n",
        "            return self._value\n",
        "\n",
        "async def main():\n",
        "    # Создаем экземпляр асинхронного счетчика\n",
        "    counter = AsyncCounter()\n",
        "\n",
        "    # Определяем задачи для увеличения и уменьшения счетчика\n",
        "    tasks = [\n",
        "        counter.increment(),\n",
        "        counter.increment(),\n",
        "        counter.decrement(),\n",
        "        counter.increment(),\n",
        "        counter.decrement()\n",
        "    ]\n",
        "\n",
        "    # Запускаем задачи параллельно\n",
        "    await asyncio.gather(*tasks)\n",
        "\n",
        "    # Получаем и выводим финальное значение счетчика\n",
        "    final_value = await counter.get_value()\n",
        "    print(f\"Конечное значение счетчика: {final_value}\")\n",
        "\n",
        "# Запускаем асинхронный цикл событий\n",
        "asyncio.run(main())\n"
      ],
      "metadata": {
        "id": "K45f9pxyLFo5",
        "colab": {
          "base_uri": "https://localhost:8080/"
        },
        "outputId": "c57bcfdb-3669-435f-a830-aba59448ccc7"
      },
      "execution_count": null,
      "outputs": [
        {
          "output_type": "stream",
          "name": "stdout",
          "text": [
            "Увеличено: 1\n",
            "Увеличено: 2\n",
            "Уменьшено: 1\n",
            "Увеличено: 2\n",
            "Уменьшено: 1\n",
            "Конечное значение счетчика: 1\n"
          ]
        }
      ]
    },
    {
      "cell_type": "markdown",
      "source": [
        "8. **Асинхронные задачи с ожиданием завершения:**\n",
        "    - Напишите программу, где одна асинхронная задача запускает другие асинхронные задачи и ожидает их завершения. Проверьте, что задачи выполняются параллельно."
      ],
      "metadata": {
        "id": "Y8UPtbgILOgc"
      }
    },
    {
      "cell_type": "code",
      "source": [
        "import asyncio\n",
        "\n",
        "# Определяем асинхронную функцию, которая будет представлять собой задачу\n",
        "async def task(name, duration):\n",
        "    # Выводим сообщение о начале выполнения задачи\n",
        "    print(f\"Задача {name} запущена, выполнение займёт {duration} секунд.\")\n",
        "    # Используем asyncio.sleep для имитации асинхронной работы\n",
        "    await asyncio.sleep(duration)\n",
        "    # Выводим сообщение о завершении задачи\n",
        "    print(f\"Задача {name} завершена, за {duration} секунд.\")\n",
        "\n",
        "# Определяем основную асинхронную функцию, которая будет запускать другие задачи\n",
        "async def main():\n",
        "    # Создаем список задач, которые нужно выполнить\n",
        "    tasks = [\n",
        "        task(\"A\", 2),\n",
        "        task(\"B\", 3),\n",
        "        task(\"C\", 1)\n",
        "    ]\n",
        "\n",
        "    # Запускаем все задачи параллельно и ожидаем их завершения\n",
        "    await asyncio.gather(*tasks)\n",
        "    # Выводим сообщение о завершении всех задач\n",
        "    print(\"Все задачи завершены.\")\n",
        "\n",
        "# Запускаем цикл событий для выполнения основной функции\n",
        "asyncio.run(main())\n"
      ],
      "metadata": {
        "id": "dBhNo6pRLFer",
        "colab": {
          "base_uri": "https://localhost:8080/"
        },
        "outputId": "effd997b-e5c5-486f-b882-86dd65cebb43"
      },
      "execution_count": null,
      "outputs": [
        {
          "output_type": "stream",
          "name": "stdout",
          "text": [
            "Задача A запущена, выполнение займёт 2 секунд.\n",
            "Задача B запущена, выполнение займёт 3 секунд.\n",
            "Задача C запущена, выполнение займёт 1 секунд.\n",
            "Задача C завершена, за 1 секунд.\n",
            "Задача A завершена, за 2 секунд.\n",
            "Задача B завершена, за 3 секунд.\n",
            "Все задачи завершены.\n"
          ]
        }
      ]
    }
  ]
}