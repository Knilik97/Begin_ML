{
  "nbformat": 4,
  "nbformat_minor": 0,
  "metadata": {
    "colab": {
      "provenance": [],
      "authorship_tag": "ABX9TyOP4TmqPDkE62uU+d9rk1Rn"
    },
    "kernelspec": {
      "name": "python3",
      "display_name": "Python 3"
    },
    "language_info": {
      "name": "python"
    }
  },
  "cells": [
    {
      "cell_type": "markdown",
      "source": [
        "# Проинсталирую библиотеку"
      ],
      "metadata": {
        "id": "SxAcsc1LbuEK"
      }
    },
    {
      "cell_type": "code",
      "execution_count": null,
      "metadata": {
        "id": "wSV2kZd7auCO"
      },
      "outputs": [],
      "source": [
        "# installing libraries\n",
        "!pip install openai -q # для ChatGPT"
      ]
    },
    {
      "cell_type": "markdown",
      "source": [
        "#Этапы реализации\n",
        "\n",
        "*Этап 1: Сбор базы знаний*\n",
        "Собираю знания по медицине с Википедии и сохраняю их в CSV-файл."
      ],
      "metadata": {
        "id": "6t-apIE35Yre"
      }
    },
    {
      "cell_type": "code",
      "source": [
        "# Импорт библиотек\n",
        "import requests\n",
        "from bs4 import BeautifulSoup\n",
        "import csv\n",
        "import pandas as pd"
      ],
      "metadata": {
        "id": "BNhMQIbM5kkF"
      },
      "execution_count": null,
      "outputs": []
    },
    {
      "cell_type": "code",
      "source": [
        "# Список статей для сбора (можете расширить)\n",
        "pages = [\n",
        "    'https://ru.wikipedia.org/wiki/Медицина',\n",
        "    # Добавьте дополнительные страницы\n",
        "]\n",
        "\n",
        "def parse_wiki_page(url):\n",
        "    response = requests.get(url)\n",
        "    soup = BeautifulSoup(response.text, 'html.parser')\n",
        "    title = soup.find('h1', id='firstHeading').text.strip()\n",
        "    content = '\\n'.join([p.text for p in soup.find_all('p')])\n",
        "    return {'title': title, 'content': content}\n",
        "\n",
        "with open('medicine_knowledge.csv', mode='w', newline='', encoding='utf-8') as file:\n",
        "    writer = csv.writer(file)\n",
        "    writer.writerow(['Title', 'Content'])\n",
        "\n",
        "    for page_url in pages:\n",
        "        data = parse_wiki_page(page_url)\n",
        "        writer.writerow([data['title'], data['content']])"
      ],
      "metadata": {
        "id": "uhcAIIXH6qwr"
      },
      "execution_count": null,
      "outputs": []
    },
    {
      "cell_type": "code",
      "source": [
        "# Читаем CSV-файл в DataFrame\n",
        "df = pd.read_csv('medicine_knowledge.csv', encoding='utf-8')\n",
        "\n",
        "# Выводим заголовки\n",
        "print(\"Заголовки файла:\", df.columns.tolist())\n",
        "\n",
        "# Выводим первые пять строк\n",
        "print(df.head())"
      ],
      "metadata": {
        "colab": {
          "base_uri": "https://localhost:8080/"
        },
        "id": "Eb56nNeM7JzV",
        "outputId": "fbc9ec24-5594-40de-efa8-246a93c1c7af"
      },
      "execution_count": null,
      "outputs": [
        {
          "output_type": "stream",
          "name": "stdout",
          "text": [
            "Заголовки файла: ['Title', 'Content']\n",
            "      Title                                            Content\n",
            "0  Медицина  Медици́на (от лат. medicīna[1], от словосочета...\n"
          ]
        }
      ]
    },
    {
      "cell_type": "markdown",
      "source": [
        "Этап 2: Создание Telegram-бота с библиотекой Aiogram"
      ],
      "metadata": {
        "id": "Iehqpp2X-Q3F"
      }
    },
    {
      "cell_type": "code",
      "source": [
        "!pip install aiogram -q # для тг-бота"
      ],
      "metadata": {
        "id": "FSnzh7Te-TN4"
      },
      "execution_count": null,
      "outputs": []
    },
    {
      "cell_type": "code",
      "source": [
        "# Установим библиотеку nest_asyncio для работы в Colabe\n",
        "!pip install nest_asyncio\n",
        "import nest_asyncio\n",
        "nest_asyncio.apply()"
      ],
      "metadata": {
        "colab": {
          "base_uri": "https://localhost:8080/"
        },
        "id": "xJnTmOa_-Y6d",
        "outputId": "2e66fc1f-3b0f-4453-946a-784ce31ea4bb"
      },
      "execution_count": null,
      "outputs": [
        {
          "output_type": "stream",
          "name": "stdout",
          "text": [
            "Requirement already satisfied: nest_asyncio in /usr/local/lib/python3.11/dist-packages (1.6.0)\n"
          ]
        }
      ]
    },
    {
      "cell_type": "code",
      "source": [
        "import asyncio\n",
        "from aiogram import Bot, Dispatcher, types\n",
        "from aiogram.types import Message\n",
        "from aiogram.filters import Command\n",
        "from aiogram import Router\n",
        "\n",
        "# Замените этот токен на ваш собственный токен бота\n",
        "API_TOKEN = 'Ваш токен с ТГ - замените'\n",
        "\n",
        "# Создаем экземпляр бота\n",
        "bot = Bot(token=API_TOKEN)\n",
        "\n",
        "# Создаем экземпляр диспетчера\n",
        "dp = Dispatcher()\n",
        "\n",
        "# Создаем экземпляр роутера\n",
        "router = Router()\n",
        "\n",
        "# Обработчик команды /start\n",
        "@router.message(Command(\"start\"))\n",
        "async def send_welcome(message: Message):\n",
        "    \"\"\"\n",
        "    Отправляет приветственное сообщение пользователю, когда он использует команду /start.\n",
        "    \"\"\"\n",
        "    await message.answer(\"Привет! Я медицинский бот, всё что касается медицины и Твоего здоровья, я смогу тебе помочь найти информацию! И даже смогу дать рекомендации.\")\n",
        "\n",
        "async def main():\n",
        "    \"\"\"\n",
        "    Основная функция для запуска бота.\n",
        "    \"\"\"\n",
        "    # Регистрация обработчиков\n",
        "    dp.include_router(router)\n",
        "\n",
        "    # Запускаем диспетчер\n",
        "    await dp.start_polling(bot)\n",
        "\n",
        "if __name__ == '__main__':\n",
        "    # Запускаем основную функцию\n",
        "    asyncio.run(main())\n"
      ],
      "metadata": {
        "colab": {
          "base_uri": "https://localhost:8080/"
        },
        "id": "2q2h8s4u-o5m",
        "outputId": "2840df49-59be-4fe8-88d3-febe6ba509b0"
      },
      "execution_count": null,
      "outputs": [
        {
          "output_type": "stream",
          "name": "stderr",
          "text": [
            "WARNING:aiogram.dispatcher:Received SIGINT signal\n"
          ]
        }
      ]
    },
    {
      "cell_type": "code",
      "source": [
        "Создание простого бота:\n",
        "\n",
        "\n",
        "\n",
        "Этап 3: Интеграция с OpenAI API\n",
        "\n",
        "Подключаем OpenAI API для обработки запросов пользователей с использованием заранее подготовленной базы знаний.\n",
        "\n",
        "Установите модуль openai:\n",
        "\n",
        "pip install openai\n",
        "\n",
        "Код интеграции:\n",
        "\n",
        "import os\n",
        "import pandas as pd\n",
        "import openai\n",
        "\n",
        "OPENAI_API_KEY = 'YOUR_OPENAI_API_KEY'  # Ваш ключ OpenAI\n",
        "openai.api_key = OPENAI_API_KEY\n",
        "\n",
        "knowledge_base = pd.read_csv('medicine_knowledge.csv')\n",
        "\n",
        "def generate_response(prompt):\n",
        "    messages = []\n",
        "    for _, row in knowledge_base.iterrows():\n",
        "        if prompt.lower() in row['Title'].lower() or prompt.lower() in row['Content'].lower():\n",
        "            messages.append({\"role\": \"system\", \"content\": f\"{row['Title']} {row['Content']}\"})\n",
        "\n",
        "    messages.append({\"role\": \"user\", \"content\": prompt})\n",
        "    completion = openai.ChatCompletion.create(\n",
        "      model=\"Anthropic: Claude 3 Haiku\",\n",
        "      messages=messages,\n",
        "      max_tokens=150\n",
        "    )\n",
        "    return completion.choices[0].message.content\n",
        "\n",
        "@dp.message_handler()\n",
        "async def handle_message(message: types.Message):\n",
        "    user_input = message.text\n",
        "    bot_response = generate_response(user_input)\n",
        "    await message.answer(bot_response)\n",
        "\n",
        "Этап 4: Метод дообучения с помощью Search-Ask\n",
        "\n",
        "Для дообучения модели используем метод Search-Ask, который позволяет получать дополнительную релевантную информацию из баз знаний перед генерацией ответа.\n",
        "\n",
        "Шаги:\n",
        "\n",
        "Поиск наиболее релевантных документов из базы знаний по запросу пользователя.\n",
        "Подготовка контекста на основе найденных документов.\n",
        "Передача контекста и вопроса модели OpenAI для генерации точного ответа.\n",
        "\n",
        "Пример доработанного блока обработки запросов:\n",
        "\n",
        "def find_relevant_docs(query):\n",
        "    relevant_docs = []\n",
        "    for index, row in knowledge_base.iterrows():\n",
        "        if query.lower() in row['Title'].lower() or query.lower() in row['Content'].lower():\n",
        "            relevant_docs.append(row['Content'])\n",
        "    return relevant_docs[:3]  # Берём первые три документа\n",
        "\n",
        "def create_context(relevant_docs):\n",
        "    context = \"\\n\\n\".join(relevant_docs)\n",
        "    return context\n",
        "\n",
        "def ask_gpt_with_context(context, question):\n",
        "    full_prompt = f\"\"\"\n",
        "    Context:\\n{context}\\nQuestion:{question}\n",
        "    \"\"\"\n",
        "    return generate_response(full_prompt)\n",
        "\n",
        "@dp.message_handler()\n",
        "async def handle_message(message: types.Message):\n",
        "    user_input = message.text\n",
        "    relevant_docs = find_relevant_docs(user_input)\n",
        "    context = create_context(relevant_docs)\n",
        "    final_answer = ask_gpt_with_context(context, user_input)\n",
        "    await message.answer(final_answer)\n",
        "\n",
        "\n",
        "Таким образом, мы получили рабочий прототип медицинского Telegram-бота с интеграцией OpenAI и механизмом улучшения качества ответов путем дообучения через предварительный поиск соответствующих медицинских сведений из предварительно собранной базы знаний.\n",
        "\n",
        "Теперь вы можете продолжить развивать проект, улучшив обработку вопросов, увеличив количество источников знаний, расширяя возможности модели и оптимизируя производительность."
      ],
      "metadata": {
        "id": "POq622liO7W3"
      },
      "execution_count": null,
      "outputs": []
    }
  ]
}